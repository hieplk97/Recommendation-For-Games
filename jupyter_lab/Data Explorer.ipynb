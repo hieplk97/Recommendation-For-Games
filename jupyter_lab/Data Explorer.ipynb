{
 "cells": [
  {
   "cell_type": "code",
   "execution_count": 1,
   "id": "returning-horizon",
   "metadata": {},
   "outputs": [],
   "source": [
    "import pandas as pd\n",
    "import numpy as np\n",
    "import seaborn as sns\n",
    "import matplotlib.pyplot as plt"
   ]
  },
  {
   "cell_type": "code",
   "execution_count": 2,
   "id": "protecting-situation",
   "metadata": {},
   "outputs": [],
   "source": [
    "import time\n",
    "from textblob import TextBlob\n",
    "import pycountry"
   ]
  },
  {
   "cell_type": "code",
   "execution_count": 3,
   "id": "geographic-beach",
   "metadata": {},
   "outputs": [],
   "source": [
    "data = pd.read_csv('games.csv',encoding='MS932')"
   ]
  },
  {
   "cell_type": "code",
   "execution_count": 4,
   "id": "laden-material",
   "metadata": {},
   "outputs": [],
   "source": [
    "# Convert price vnd to usd\n",
    "data['price'] = round(data['price'].str.replace(',', '').replace('free','0').astype(float) / 23000, 2)\n",
    "# Convert string to float\n",
    "data['rating_count'] = data['rating_count'].str.replace(',', '').astype(float)\n",
    "# Create is_free column base on price\n",
    "data['is_free'] = np.where(data['price'] != 0, True, False)\n",
    "# Convert ad_supported to bool\n",
    "data['ad_supported'] = data['ad_supported'].fillna(0).astype(bool)\n",
    "# Convert editors_choice to bool\n",
    "data['editors_choice'] = data['editors_choice'].astype(bool)\n",
    "# Fill nan of size\n",
    "data['size'] = data['size'].fillna(\"Varies with device\")\n",
    "# drop nan of content_rating\n",
    "data = data[data['content_rating'].notna()]"
   ]
  },
  {
   "cell_type": "code",
   "execution_count": 5,
   "id": "virgin-sacramento",
   "metadata": {},
   "outputs": [
    {
     "data": {
      "text/html": [
       "<div>\n",
       "<style scoped>\n",
       "    .dataframe tbody tr th:only-of-type {\n",
       "        vertical-align: middle;\n",
       "    }\n",
       "\n",
       "    .dataframe tbody tr th {\n",
       "        vertical-align: top;\n",
       "    }\n",
       "\n",
       "    .dataframe thead th {\n",
       "        text-align: right;\n",
       "    }\n",
       "</style>\n",
       "<table border=\"1\" class=\"dataframe\">\n",
       "  <thead>\n",
       "    <tr style=\"text-align: right;\">\n",
       "      <th></th>\n",
       "      <th>id</th>\n",
       "      <th>title</th>\n",
       "      <th>url</th>\n",
       "      <th>category</th>\n",
       "      <th>avg_rating</th>\n",
       "      <th>rating_count</th>\n",
       "      <th>price</th>\n",
       "      <th>developer_name</th>\n",
       "      <th>developer_url</th>\n",
       "      <th>description</th>\n",
       "      <th>summary</th>\n",
       "      <th>min_installs</th>\n",
       "      <th>editors_choice</th>\n",
       "      <th>size</th>\n",
       "      <th>android_version</th>\n",
       "      <th>content_rating</th>\n",
       "      <th>ad_supported</th>\n",
       "      <th>released</th>\n",
       "      <th>is_free</th>\n",
       "    </tr>\n",
       "  </thead>\n",
       "  <tbody>\n",
       "    <tr>\n",
       "      <th>0</th>\n",
       "      <td>aasuited.net.word</td>\n",
       "      <td>Dingbats - Between the lines</td>\n",
       "      <td>https://play.google.com/store/apps/details?id=...</td>\n",
       "      <td>Trivia</td>\n",
       "      <td>4.6</td>\n",
       "      <td>22871.0</td>\n",
       "      <td>0.00</td>\n",
       "      <td>Romain Lebouc</td>\n",
       "      <td>https://play.google.com/store/apps/developer?i...</td>\n",
       "      <td>One puzzle, one phrase : try to identity the m...</td>\n",
       "      <td>Can you guess the famous idioms from the drawi...</td>\n",
       "      <td>1000000.0</td>\n",
       "      <td>False</td>\n",
       "      <td>21M</td>\n",
       "      <td>4.1</td>\n",
       "      <td>Everyone</td>\n",
       "      <td>True</td>\n",
       "      <td>Mar 21, 2015</td>\n",
       "      <td>False</td>\n",
       "    </tr>\n",
       "    <tr>\n",
       "      <th>1</th>\n",
       "      <td>agamz.logic</td>\n",
       "      <td>Logic Puzzles - Brain Fun</td>\n",
       "      <td>https://play.google.com/store/apps/details?id=...</td>\n",
       "      <td>Word</td>\n",
       "      <td>4.0</td>\n",
       "      <td>919.0</td>\n",
       "      <td>3.00</td>\n",
       "      <td>Egghead Games LLC</td>\n",
       "      <td>https://play.google.com/store/apps/dev?id=8905...</td>\n",
       "      <td>Logic grid puzzles like those in Dell magazine...</td>\n",
       "      <td>The highest rated logic grid puzzle app, with ...</td>\n",
       "      <td>10000.0</td>\n",
       "      <td>False</td>\n",
       "      <td>3.9M</td>\n",
       "      <td>4.0.3</td>\n",
       "      <td>Everyone</td>\n",
       "      <td>False</td>\n",
       "      <td>Oct 9, 2012</td>\n",
       "      <td>True</td>\n",
       "    </tr>\n",
       "    <tr>\n",
       "      <th>2</th>\n",
       "      <td>age.of.civilizations2.jakowski.lukasz</td>\n",
       "      <td>Age of History II</td>\n",
       "      <td>https://play.google.com/store/apps/details?id=...</td>\n",
       "      <td>Strategy</td>\n",
       "      <td>4.2</td>\n",
       "      <td>21837.0</td>\n",
       "      <td>2.39</td>\n",
       "      <td>?ukasz Jakowski</td>\n",
       "      <td>https://play.google.com/store/apps/dev?id=4635...</td>\n",
       "      <td>Age of History II is a grand strategy wargame ...</td>\n",
       "      <td>AoH2 is a grand strategy wargame that is simpl...</td>\n",
       "      <td>100000.0</td>\n",
       "      <td>False</td>\n",
       "      <td>140M</td>\n",
       "      <td>4.0</td>\n",
       "      <td>Everyone</td>\n",
       "      <td>False</td>\n",
       "      <td>Dec 4, 2018</td>\n",
       "      <td>True</td>\n",
       "    </tr>\n",
       "    <tr>\n",
       "      <th>3</th>\n",
       "      <td>air.air.RedSunPremium</td>\n",
       "      <td>Redsun RTS Premium</td>\n",
       "      <td>https://play.google.com/store/apps/details?id=...</td>\n",
       "      <td>Strategy</td>\n",
       "      <td>3.6</td>\n",
       "      <td>1571.0</td>\n",
       "      <td>1.65</td>\n",
       "      <td>Digital Garbage</td>\n",
       "      <td>https://play.google.com/store/apps/developer?i...</td>\n",
       "      <td>Redsun RTS is a prime example of the genre cla...</td>\n",
       "      <td>RedSun Real Time Strategy - strategy for the f...</td>\n",
       "      <td>10000.0</td>\n",
       "      <td>False</td>\n",
       "      <td>Varies with device</td>\n",
       "      <td>4.4</td>\n",
       "      <td>Teen</td>\n",
       "      <td>False</td>\n",
       "      <td>Jun 25, 2015</td>\n",
       "      <td>True</td>\n",
       "    </tr>\n",
       "    <tr>\n",
       "      <th>4</th>\n",
       "      <td>air.air.SugarSugar</td>\n",
       "      <td>sugar, sugar</td>\n",
       "      <td>https://play.google.com/store/apps/details?id=...</td>\n",
       "      <td>Puzzle</td>\n",
       "      <td>4.5</td>\n",
       "      <td>1616.0</td>\n",
       "      <td>1.96</td>\n",
       "      <td>Bart Bonte</td>\n",
       "      <td>https://play.google.com/store/apps/dev?id=6731...</td>\n",
       "      <td>Draw with your finger on the screen to direct ...</td>\n",
       "      <td>Draw to get enough sugar in all the cups! The ...</td>\n",
       "      <td>50000.0</td>\n",
       "      <td>False</td>\n",
       "      <td>Varies with device</td>\n",
       "      <td>4.2</td>\n",
       "      <td>Everyone</td>\n",
       "      <td>False</td>\n",
       "      <td>Oct 23, 2012</td>\n",
       "      <td>True</td>\n",
       "    </tr>\n",
       "  </tbody>\n",
       "</table>\n",
       "</div>"
      ],
      "text/plain": [
       "                                      id                         title  \\\n",
       "0                      aasuited.net.word  Dingbats - Between the lines   \n",
       "1                            agamz.logic     Logic Puzzles - Brain Fun   \n",
       "2  age.of.civilizations2.jakowski.lukasz             Age of History II   \n",
       "3                  air.air.RedSunPremium            Redsun RTS Premium   \n",
       "4                     air.air.SugarSugar                  sugar, sugar   \n",
       "\n",
       "                                                 url  category  avg_rating  \\\n",
       "0  https://play.google.com/store/apps/details?id=...    Trivia         4.6   \n",
       "1  https://play.google.com/store/apps/details?id=...      Word         4.0   \n",
       "2  https://play.google.com/store/apps/details?id=...  Strategy         4.2   \n",
       "3  https://play.google.com/store/apps/details?id=...  Strategy         3.6   \n",
       "4  https://play.google.com/store/apps/details?id=...    Puzzle         4.5   \n",
       "\n",
       "   rating_count  price     developer_name  \\\n",
       "0       22871.0   0.00      Romain Lebouc   \n",
       "1         919.0   3.00  Egghead Games LLC   \n",
       "2       21837.0   2.39    ?ukasz Jakowski   \n",
       "3        1571.0   1.65    Digital Garbage   \n",
       "4        1616.0   1.96         Bart Bonte   \n",
       "\n",
       "                                       developer_url  \\\n",
       "0  https://play.google.com/store/apps/developer?i...   \n",
       "1  https://play.google.com/store/apps/dev?id=8905...   \n",
       "2  https://play.google.com/store/apps/dev?id=4635...   \n",
       "3  https://play.google.com/store/apps/developer?i...   \n",
       "4  https://play.google.com/store/apps/dev?id=6731...   \n",
       "\n",
       "                                         description  \\\n",
       "0  One puzzle, one phrase : try to identity the m...   \n",
       "1  Logic grid puzzles like those in Dell magazine...   \n",
       "2  Age of History II is a grand strategy wargame ...   \n",
       "3  Redsun RTS is a prime example of the genre cla...   \n",
       "4  Draw with your finger on the screen to direct ...   \n",
       "\n",
       "                                             summary  min_installs  \\\n",
       "0  Can you guess the famous idioms from the drawi...     1000000.0   \n",
       "1  The highest rated logic grid puzzle app, with ...       10000.0   \n",
       "2  AoH2 is a grand strategy wargame that is simpl...      100000.0   \n",
       "3  RedSun Real Time Strategy - strategy for the f...       10000.0   \n",
       "4  Draw to get enough sugar in all the cups! The ...       50000.0   \n",
       "\n",
       "   editors_choice                size android_version content_rating  \\\n",
       "0           False                 21M             4.1       Everyone   \n",
       "1           False                3.9M           4.0.3       Everyone   \n",
       "2           False                140M             4.0       Everyone   \n",
       "3           False  Varies with device             4.4           Teen   \n",
       "4           False  Varies with device             4.2       Everyone   \n",
       "\n",
       "   ad_supported      released  is_free  \n",
       "0          True  Mar 21, 2015    False  \n",
       "1         False   Oct 9, 2012     True  \n",
       "2         False   Dec 4, 2018     True  \n",
       "3         False  Jun 25, 2015     True  \n",
       "4         False  Oct 23, 2012     True  "
      ]
     },
     "execution_count": 5,
     "metadata": {},
     "output_type": "execute_result"
    }
   ],
   "source": [
    "data.head()"
   ]
  },
  {
   "cell_type": "code",
   "execution_count": 6,
   "id": "certain-glossary",
   "metadata": {},
   "outputs": [
    {
     "name": "stdout",
     "output_type": "stream",
     "text": [
      "<class 'pandas.core.frame.DataFrame'>\n",
      "Int64Index: 3625 entries, 0 to 3626\n",
      "Data columns (total 19 columns):\n",
      " #   Column           Non-Null Count  Dtype  \n",
      "---  ------           --------------  -----  \n",
      " 0   id               3625 non-null   object \n",
      " 1   title            3625 non-null   object \n",
      " 2   url              3625 non-null   object \n",
      " 3   category         3625 non-null   object \n",
      " 4   avg_rating       3625 non-null   float64\n",
      " 5   rating_count     3625 non-null   float64\n",
      " 6   price            3625 non-null   float64\n",
      " 7   developer_name   3625 non-null   object \n",
      " 8   developer_url    3625 non-null   object \n",
      " 9   description      3625 non-null   object \n",
      " 10  summary          3625 non-null   object \n",
      " 11  min_installs     3625 non-null   float64\n",
      " 12  editors_choice   3625 non-null   bool   \n",
      " 13  size             3625 non-null   object \n",
      " 14  android_version  3615 non-null   object \n",
      " 15  content_rating   3625 non-null   object \n",
      " 16  ad_supported     3625 non-null   bool   \n",
      " 17  released         3567 non-null   object \n",
      " 18  is_free          3625 non-null   bool   \n",
      "dtypes: bool(3), float64(4), object(12)\n",
      "memory usage: 492.1+ KB\n"
     ]
    }
   ],
   "source": [
    "data.info()"
   ]
  },
  {
   "cell_type": "code",
   "execution_count": 7,
   "id": "arabic-architecture",
   "metadata": {},
   "outputs": [
    {
     "data": {
      "text/html": [
       "<div>\n",
       "<style scoped>\n",
       "    .dataframe tbody tr th:only-of-type {\n",
       "        vertical-align: middle;\n",
       "    }\n",
       "\n",
       "    .dataframe tbody tr th {\n",
       "        vertical-align: top;\n",
       "    }\n",
       "\n",
       "    .dataframe thead th {\n",
       "        text-align: right;\n",
       "    }\n",
       "</style>\n",
       "<table border=\"1\" class=\"dataframe\">\n",
       "  <thead>\n",
       "    <tr style=\"text-align: right;\">\n",
       "      <th></th>\n",
       "      <th>avg_rating</th>\n",
       "      <th>rating_count</th>\n",
       "      <th>price</th>\n",
       "      <th>min_installs</th>\n",
       "    </tr>\n",
       "  </thead>\n",
       "  <tbody>\n",
       "    <tr>\n",
       "      <th>count</th>\n",
       "      <td>3625.000000</td>\n",
       "      <td>3.625000e+03</td>\n",
       "      <td>3625.000000</td>\n",
       "      <td>3.625000e+03</td>\n",
       "    </tr>\n",
       "    <tr>\n",
       "      <th>mean</th>\n",
       "      <td>4.325572</td>\n",
       "      <td>3.803445e+05</td>\n",
       "      <td>0.577628</td>\n",
       "      <td>1.228949e+07</td>\n",
       "    </tr>\n",
       "    <tr>\n",
       "      <th>std</th>\n",
       "      <td>0.274806</td>\n",
       "      <td>1.995352e+06</td>\n",
       "      <td>1.874490</td>\n",
       "      <td>4.098963e+07</td>\n",
       "    </tr>\n",
       "    <tr>\n",
       "      <th>min</th>\n",
       "      <td>2.500000</td>\n",
       "      <td>9.000000e+00</td>\n",
       "      <td>0.000000</td>\n",
       "      <td>0.000000e+00</td>\n",
       "    </tr>\n",
       "    <tr>\n",
       "      <th>25%</th>\n",
       "      <td>4.200000</td>\n",
       "      <td>8.556000e+03</td>\n",
       "      <td>0.000000</td>\n",
       "      <td>5.000000e+05</td>\n",
       "    </tr>\n",
       "    <tr>\n",
       "      <th>50%</th>\n",
       "      <td>4.300000</td>\n",
       "      <td>4.429100e+04</td>\n",
       "      <td>0.000000</td>\n",
       "      <td>1.000000e+06</td>\n",
       "    </tr>\n",
       "    <tr>\n",
       "      <th>75%</th>\n",
       "      <td>4.500000</td>\n",
       "      <td>1.906760e+05</td>\n",
       "      <td>0.000000</td>\n",
       "      <td>1.000000e+07</td>\n",
       "    </tr>\n",
       "    <tr>\n",
       "      <th>max</th>\n",
       "      <td>5.000000</td>\n",
       "      <td>8.571750e+07</td>\n",
       "      <td>20.830000</td>\n",
       "      <td>1.000000e+09</td>\n",
       "    </tr>\n",
       "  </tbody>\n",
       "</table>\n",
       "</div>"
      ],
      "text/plain": [
       "        avg_rating  rating_count        price  min_installs\n",
       "count  3625.000000  3.625000e+03  3625.000000  3.625000e+03\n",
       "mean      4.325572  3.803445e+05     0.577628  1.228949e+07\n",
       "std       0.274806  1.995352e+06     1.874490  4.098963e+07\n",
       "min       2.500000  9.000000e+00     0.000000  0.000000e+00\n",
       "25%       4.200000  8.556000e+03     0.000000  5.000000e+05\n",
       "50%       4.300000  4.429100e+04     0.000000  1.000000e+06\n",
       "75%       4.500000  1.906760e+05     0.000000  1.000000e+07\n",
       "max       5.000000  8.571750e+07    20.830000  1.000000e+09"
      ]
     },
     "execution_count": 7,
     "metadata": {},
     "output_type": "execute_result"
    }
   ],
   "source": [
    "data.describe()"
   ]
  },
  {
   "cell_type": "code",
   "execution_count": 8,
   "id": "valuable-payday",
   "metadata": {},
   "outputs": [],
   "source": [
    "data['size'] = np.where(data['size'].str.match(r'^\\d*\\.?\\d*M'),\n",
    "                            pd.to_numeric(data['size'].str.replace('M', ''), errors='coerce'),\n",
    "                                          np.where(data['size'].str.match(r'^\\d*\\.?\\d*G'), \n",
    "                                                   pd.to_numeric(data['size'].str.replace('G', ''), errors='coerce') * 1024,  \n",
    "                                                                 np.where(data['size'].str.match(r'^\\d*\\.?\\d*K'), \n",
    "                                                                          round(pd.to_numeric(data['size'].str.replace('K', ''), errors='coerce') / 1024, 1), '-1')))"
   ]
  },
  {
   "cell_type": "code",
   "execution_count": 9,
   "id": "pharmaceutical-applicant",
   "metadata": {},
   "outputs": [],
   "source": [
    "data['size_num'] = data['size'].astype(float)"
   ]
  },
  {
   "cell_type": "code",
   "execution_count": 10,
   "id": "million-entry",
   "metadata": {},
   "outputs": [
    {
     "data": {
      "text/plain": [
       "0        21.0\n",
       "1         3.9\n",
       "2       140.0\n",
       "3        -1.0\n",
       "4        -1.0\n",
       "        ...  \n",
       "3622     29.0\n",
       "3623     28.0\n",
       "3624     98.0\n",
       "3625     -1.0\n",
       "3626     24.0\n",
       "Name: size_num, Length: 3625, dtype: float64"
      ]
     },
     "execution_count": 10,
     "metadata": {},
     "output_type": "execute_result"
    }
   ],
   "source": [
    "data['size_num']"
   ]
  },
  {
   "cell_type": "code",
   "execution_count": 11,
   "id": "included-venezuela",
   "metadata": {},
   "outputs": [],
   "source": [
    "def categorise_size(row):\n",
    "    if row['size_num'] < 0:\n",
    "        return 'Varies With Device'\n",
    "    elif row['size_num'] < 20:\n",
    "        return 'Tiny'\n",
    "    elif row['size_num'] < 100:\n",
    "        return 'Small'\n",
    "    elif row['size_num'] < 500:\n",
    "        return 'Medium'\n",
    "    else:\n",
    "        return 'Large'"
   ]
  },
  {
   "cell_type": "code",
   "execution_count": 12,
   "id": "aggregate-debate",
   "metadata": {},
   "outputs": [],
   "source": [
    "data['size'] = data.apply(categorise_size, 1)\n",
    "data.drop(columns=['size_num'], inplace=True)"
   ]
  },
  {
   "cell_type": "code",
   "execution_count": 13,
   "id": "formal-selling",
   "metadata": {},
   "outputs": [
    {
     "data": {
      "text/plain": [
       "array(['Everyone', 'Teen', 'Everyone 10+', 'Mature 17+'], dtype=object)"
      ]
     },
     "execution_count": 13,
     "metadata": {},
     "output_type": "execute_result"
    }
   ],
   "source": [
    "data['content_rating'].unique()"
   ]
  },
  {
   "cell_type": "code",
   "execution_count": 14,
   "id": "backed-arrangement",
   "metadata": {},
   "outputs": [
    {
     "data": {
      "text/plain": [
       "<AxesSubplot:xlabel='size', ylabel='count'>"
      ]
     },
     "execution_count": 14,
     "metadata": {},
     "output_type": "execute_result"
    },
    {
     "data": {
      "image/png": "[encoded data removed]",
      "text/plain": [
       "<Figure size 432x288 with 1 Axes>"
      ]
     },
     "metadata": {
      "needs_background": "light"
     },
     "output_type": "display_data"
    }
   ],
   "source": [
    "sns.countplot(x='size', data=data)"
   ]
  },
  {
   "cell_type": "code",
   "execution_count": 15,
   "id": "asian-diary",
   "metadata": {},
   "outputs": [
    {
     "data": {
      "text/plain": [
       "<AxesSubplot:xlabel='content_rating', ylabel='count'>"
      ]
     },
     "execution_count": 15,
     "metadata": {},
     "output_type": "execute_result"
    },
    {
     "data": {
      "image/png": "[encoded data removed]",
      "text/plain": [
       "<Figure size 720x432 with 1 Axes>"
      ]
     },
     "metadata": {
      "needs_background": "light"
     },
     "output_type": "display_data"
    }
   ],
   "source": [
    "plt.figure(figsize=(10, 6))\n",
    "sns.countplot(x='content_rating', data=data)"
   ]
  },
  {
   "cell_type": "code",
   "execution_count": 16,
   "id": "interior-election",
   "metadata": {},
   "outputs": [
    {
     "data": {
      "text/plain": [
       "<AxesSubplot:xlabel='category', ylabel='count'>"
      ]
     },
     "execution_count": 16,
     "metadata": {},
     "output_type": "execute_result"
    },
    {
     "data": {
      "image/png": "[encoded data removed]",
      "text/plain": [
       "<Figure size 1440x576 with 1 Axes>"
      ]
     },
     "metadata": {
      "needs_background": "light"
     },
     "output_type": "display_data"
    }
   ],
   "source": [
    "plt.figure(figsize=(20, 8))\n",
    "sns.countplot(x='category', data=data)"
   ]
  },
  {
   "cell_type": "code",
   "execution_count": 17,
   "id": "narrative-collectible",
   "metadata": {},
   "outputs": [
    {
     "data": {
      "image/png": "[encoded data removed]",
      "text/plain": [
       "<Figure size 1440x576 with 2 Axes>"
      ]
     },
     "metadata": {
      "needs_background": "light"
     },
     "output_type": "display_data"
    }
   ],
   "source": [
    "plt.figure(figsize=(20, 8))\n",
    "\n",
    "plt.subplot(2, 1, 1)\n",
    "sns.countplot(x='category', data=data, hue='editors_choice')\n",
    "\n",
    "plt.subplot(2, 1, 2)\n",
    "sns.countplot(x='category', data=data, hue='ad_supported')\n",
    "\n",
    "plt.show()"
   ]
  },
  {
   "cell_type": "code",
   "execution_count": 18,
   "id": "substantial-edmonton",
   "metadata": {},
   "outputs": [],
   "source": [
    "def define_lang(row):\n",
    "    text = TextBlob(row['summary'])\n",
    "    iso_code = text.detect_language()\n",
    "    language = pycountry.languages.get(alpha_2=iso_code)\n",
    "    return language.name"
   ]
  },
  {
   "cell_type": "code",
   "execution_count": 19,
   "id": "peaceful-intermediate",
   "metadata": {},
   "outputs": [],
   "source": [
    "# data['lang'] = data.apply(define_lang, 1)"
   ]
  },
  {
   "cell_type": "code",
   "execution_count": 20,
   "id": "progressive-change",
   "metadata": {},
   "outputs": [
    {
     "data": {
      "text/html": [
       "<div>\n",
       "<style scoped>\n",
       "    .dataframe tbody tr th:only-of-type {\n",
       "        vertical-align: middle;\n",
       "    }\n",
       "\n",
       "    .dataframe tbody tr th {\n",
       "        vertical-align: top;\n",
       "    }\n",
       "\n",
       "    .dataframe thead th {\n",
       "        text-align: right;\n",
       "    }\n",
       "</style>\n",
       "<table border=\"1\" class=\"dataframe\">\n",
       "  <thead>\n",
       "    <tr style=\"text-align: right;\">\n",
       "      <th></th>\n",
       "      <th>id</th>\n",
       "      <th>title</th>\n",
       "      <th>url</th>\n",
       "      <th>category</th>\n",
       "      <th>avg_rating</th>\n",
       "      <th>rating_count</th>\n",
       "      <th>price</th>\n",
       "      <th>developer_name</th>\n",
       "      <th>developer_url</th>\n",
       "      <th>description</th>\n",
       "      <th>summary</th>\n",
       "      <th>min_installs</th>\n",
       "      <th>editors_choice</th>\n",
       "      <th>size</th>\n",
       "      <th>android_version</th>\n",
       "      <th>content_rating</th>\n",
       "      <th>ad_supported</th>\n",
       "      <th>released</th>\n",
       "      <th>is_free</th>\n",
       "    </tr>\n",
       "  </thead>\n",
       "  <tbody>\n",
       "    <tr>\n",
       "      <th>3622</th>\n",
       "      <td>wordgame.stacks.crush.fish</td>\n",
       "      <td>Word Games Ocean: Find Hidden Words</td>\n",
       "      <td>https://play.google.com/store/apps/details?id=...</td>\n",
       "      <td>Word</td>\n",
       "      <td>4.8</td>\n",
       "      <td>1446.0</td>\n",
       "      <td>0.0</td>\n",
       "      <td>Innovation Puzzle Games</td>\n",
       "      <td>https://play.google.com/store/apps/developer?i...</td>\n",
       "      <td>????Totally free &amp; 1000+ levels\\r\\n????Collect...</td>\n",
       "      <td>????Different sea world for 2020????Rescue dro...</td>\n",
       "      <td>50000.0</td>\n",
       "      <td>False</td>\n",
       "      <td>Small</td>\n",
       "      <td>4.4</td>\n",
       "      <td>Everyone</td>\n",
       "      <td>True</td>\n",
       "      <td>Oct 28, 2019</td>\n",
       "      <td>False</td>\n",
       "    </tr>\n",
       "    <tr>\n",
       "      <th>3623</th>\n",
       "      <td>wordpuzzle.innovationgames.crossword</td>\n",
       "      <td>Word Games Music - Crossword Puzzle</td>\n",
       "      <td>https://play.google.com/store/apps/details?id=...</td>\n",
       "      <td>Word</td>\n",
       "      <td>4.6</td>\n",
       "      <td>12870.0</td>\n",
       "      <td>0.0</td>\n",
       "      <td>Innovation Puzzle Games</td>\n",
       "      <td>https://play.google.com/store/apps/developer?i...</td>\n",
       "      <td>Download to train your brain with 2000+ challe...</td>\n",
       "      <td>????2021 Addictive Crossword Games! Solve CLAS...</td>\n",
       "      <td>1000000.0</td>\n",
       "      <td>False</td>\n",
       "      <td>Small</td>\n",
       "      <td>4.4</td>\n",
       "      <td>Everyone</td>\n",
       "      <td>True</td>\n",
       "      <td>Apr 26, 2019</td>\n",
       "      <td>False</td>\n",
       "    </tr>\n",
       "    <tr>\n",
       "      <th>3624</th>\n",
       "      <td>world.playme.mechat</td>\n",
       "      <td>MeChat - Love secrets</td>\n",
       "      <td>https://play.google.com/store/apps/details?id=...</td>\n",
       "      <td>Role Playing</td>\n",
       "      <td>4.1</td>\n",
       "      <td>3725.0</td>\n",
       "      <td>0.0</td>\n",
       "      <td>PlayMe Studio</td>\n",
       "      <td>https://play.google.com/store/apps/developer?i...</td>\n",
       "      <td>Find your perfect match with MeChat! \\r\\n\\r\\nW...</td>\n",
       "      <td>Swipe, Match, Date!</td>\n",
       "      <td>100000.0</td>\n",
       "      <td>False</td>\n",
       "      <td>Small</td>\n",
       "      <td>5.0</td>\n",
       "      <td>Mature 17+</td>\n",
       "      <td>True</td>\n",
       "      <td>Jan 26, 2021</td>\n",
       "      <td>False</td>\n",
       "    </tr>\n",
       "    <tr>\n",
       "      <th>3625</th>\n",
       "      <td>zombie.survival.craft.z</td>\n",
       "      <td>Last Day on Earth: Survival</td>\n",
       "      <td>https://play.google.com/store/apps/details?id=...</td>\n",
       "      <td>Action</td>\n",
       "      <td>4.4</td>\n",
       "      <td>4148479.0</td>\n",
       "      <td>0.0</td>\n",
       "      <td>Kefir!</td>\n",
       "      <td>https://play.google.com/store/apps/dev?id=8784...</td>\n",
       "      <td>The survival shooter Last Day on Earth is set ...</td>\n",
       "      <td>Survive among the Dead</td>\n",
       "      <td>50000000.0</td>\n",
       "      <td>True</td>\n",
       "      <td>Varies With Device</td>\n",
       "      <td>5.0</td>\n",
       "      <td>Teen</td>\n",
       "      <td>False</td>\n",
       "      <td>May 24, 2017</td>\n",
       "      <td>False</td>\n",
       "    </tr>\n",
       "    <tr>\n",
       "      <th>3626</th>\n",
       "      <td>zozo.android.crosswords</td>\n",
       "      <td>???? - ???? ????? ???????</td>\n",
       "      <td>https://play.google.com/store/apps/details?id=...</td>\n",
       "      <td>Word</td>\n",
       "      <td>4.6</td>\n",
       "      <td>748453.0</td>\n",
       "      <td>0.0</td>\n",
       "      <td>Alrazy Labs (ZoZo)</td>\n",
       "      <td>https://play.google.com/store/apps/developer?i...</td>\n",
       "      <td>??? ?????? ????? ????? ????? ??? ???? ??????? ...</td>\n",
       "      <td>Game cultural comprehensive in various fields ...</td>\n",
       "      <td>5000000.0</td>\n",
       "      <td>False</td>\n",
       "      <td>Small</td>\n",
       "      <td>2.3.3</td>\n",
       "      <td>Everyone</td>\n",
       "      <td>True</td>\n",
       "      <td>May 27, 2015</td>\n",
       "      <td>False</td>\n",
       "    </tr>\n",
       "  </tbody>\n",
       "</table>\n",
       "</div>"
      ],
      "text/plain": [
       "                                        id  \\\n",
       "3622            wordgame.stacks.crush.fish   \n",
       "3623  wordpuzzle.innovationgames.crossword   \n",
       "3624                   world.playme.mechat   \n",
       "3625               zombie.survival.craft.z   \n",
       "3626               zozo.android.crosswords   \n",
       "\n",
       "                                    title  \\\n",
       "3622  Word Games Ocean: Find Hidden Words   \n",
       "3623  Word Games Music - Crossword Puzzle   \n",
       "3624                MeChat - Love secrets   \n",
       "3625          Last Day on Earth: Survival   \n",
       "3626            ???? - ???? ????? ???????   \n",
       "\n",
       "                                                    url      category  \\\n",
       "3622  https://play.google.com/store/apps/details?id=...          Word   \n",
       "3623  https://play.google.com/store/apps/details?id=...          Word   \n",
       "3624  https://play.google.com/store/apps/details?id=...  Role Playing   \n",
       "3625  https://play.google.com/store/apps/details?id=...        Action   \n",
       "3626  https://play.google.com/store/apps/details?id=...          Word   \n",
       "\n",
       "      avg_rating  rating_count  price           developer_name  \\\n",
       "3622         4.8        1446.0    0.0  Innovation Puzzle Games   \n",
       "3623         4.6       12870.0    0.0  Innovation Puzzle Games   \n",
       "3624         4.1        3725.0    0.0            PlayMe Studio   \n",
       "3625         4.4     4148479.0    0.0                   Kefir!   \n",
       "3626         4.6      748453.0    0.0       Alrazy Labs (ZoZo)   \n",
       "\n",
       "                                          developer_url  \\\n",
       "3622  https://play.google.com/store/apps/developer?i...   \n",
       "3623  https://play.google.com/store/apps/developer?i...   \n",
       "3624  https://play.google.com/store/apps/developer?i...   \n",
       "3625  https://play.google.com/store/apps/dev?id=8784...   \n",
       "3626  https://play.google.com/store/apps/developer?i...   \n",
       "\n",
       "                                            description  \\\n",
       "3622  ????Totally free & 1000+ levels\\r\\n????Collect...   \n",
       "3623  Download to train your brain with 2000+ challe...   \n",
       "3624  Find your perfect match with MeChat! \\r\\n\\r\\nW...   \n",
       "3625  The survival shooter Last Day on Earth is set ...   \n",
       "3626  ??? ?????? ????? ????? ????? ??? ???? ??????? ...   \n",
       "\n",
       "                                                summary  min_installs  \\\n",
       "3622  ????Different sea world for 2020????Rescue dro...       50000.0   \n",
       "3623  ????2021 Addictive Crossword Games! Solve CLAS...     1000000.0   \n",
       "3624                                Swipe, Match, Date!      100000.0   \n",
       "3625                             Survive among the Dead    50000000.0   \n",
       "3626  Game cultural comprehensive in various fields ...     5000000.0   \n",
       "\n",
       "      editors_choice                size android_version content_rating  \\\n",
       "3622           False               Small             4.4       Everyone   \n",
       "3623           False               Small             4.4       Everyone   \n",
       "3624           False               Small             5.0     Mature 17+   \n",
       "3625            True  Varies With Device             5.0           Teen   \n",
       "3626           False               Small           2.3.3       Everyone   \n",
       "\n",
       "      ad_supported      released  is_free  \n",
       "3622          True  Oct 28, 2019    False  \n",
       "3623          True  Apr 26, 2019    False  \n",
       "3624          True  Jan 26, 2021    False  \n",
       "3625         False  May 24, 2017    False  \n",
       "3626          True  May 27, 2015    False  "
      ]
     },
     "execution_count": 20,
     "metadata": {},
     "output_type": "execute_result"
    }
   ],
   "source": [
    "data.tail()"
   ]
  },
  {
   "cell_type": "code",
   "execution_count": null,
   "id": "direct-threshold",
   "metadata": {},
   "outputs": [],
   "source": []
  }
 ],
 "metadata": {
  "kernelspec": {
   "display_name": "Python 3",
   "language": "python",
   "name": "python3"
  },
  "language_info": {
   "codemirror_mode": {
    "name": "ipython",
    "version": 3
   },
   "file_extension": ".py",
   "mimetype": "text/x-python",
   "name": "python",
   "nbconvert_exporter": "python",
   "pygments_lexer": "ipython3",
   "version": "3.8.3"
  }
 },
 "nbformat": 4,
 "nbformat_minor": 5
}
