{
 "cells": [
  {
   "cell_type": "code",
   "execution_count": 1,
   "id": "chemical-alloy",
   "metadata": {},
   "outputs": [],
   "source": [
    "import pandas as pd"
   ]
  },
  {
   "cell_type": "code",
   "execution_count": 3,
   "id": "streaming-cemetery",
   "metadata": {},
   "outputs": [],
   "source": [
    "data = pd.read_json('comments.json')"
   ]
  },
  {
   "cell_type": "code",
   "execution_count": 4,
   "id": "mexican-final",
   "metadata": {},
   "outputs": [
    {
     "data": {
      "text/html": [
       "<div>\n",
       "<style scoped>\n",
       "    .dataframe tbody tr th:only-of-type {\n",
       "        vertical-align: middle;\n",
       "    }\n",
       "\n",
       "    .dataframe tbody tr th {\n",
       "        vertical-align: top;\n",
       "    }\n",
       "\n",
       "    .dataframe thead th {\n",
       "        text-align: right;\n",
       "    }\n",
       "</style>\n",
       "<table border=\"1\" class=\"dataframe\">\n",
       "  <thead>\n",
       "    <tr style=\"text-align: right;\">\n",
       "      <th></th>\n",
       "      <th>user</th>\n",
       "      <th>score</th>\n",
       "      <th>content</th>\n",
       "      <th>like</th>\n",
       "      <th>date</th>\n",
       "      <th>game_id</th>\n",
       "      <th>game_title</th>\n",
       "      <th>game_category</th>\n",
       "    </tr>\n",
       "  </thead>\n",
       "  <tbody>\n",
       "    <tr>\n",
       "      <th>0</th>\n",
       "      <td>Stacie Abasiekong</td>\n",
       "      <td>5</td>\n",
       "      <td>I love this game! It can be challenging, but I...</td>\n",
       "      <td>0</td>\n",
       "      <td>2021-05-17 20:42:28</td>\n",
       "      <td>aasuited.net.word</td>\n",
       "      <td>Dingbats - Between the lines</td>\n",
       "      <td>Trivia</td>\n",
       "    </tr>\n",
       "    <tr>\n",
       "      <th>1</th>\n",
       "      <td>Matthew D</td>\n",
       "      <td>5</td>\n",
       "      <td>Fun, challenging and ads are not too intrusive...</td>\n",
       "      <td>1</td>\n",
       "      <td>2021-05-13 22:14:40</td>\n",
       "      <td>aasuited.net.word</td>\n",
       "      <td>Dingbats - Between the lines</td>\n",
       "      <td>Trivia</td>\n",
       "    </tr>\n",
       "    <tr>\n",
       "      <th>2</th>\n",
       "      <td>Liz Beer</td>\n",
       "      <td>5</td>\n",
       "      <td>Love the app, gets you thinking like Dingbats....</td>\n",
       "      <td>6</td>\n",
       "      <td>2021-04-29 22:18:10</td>\n",
       "      <td>aasuited.net.word</td>\n",
       "      <td>Dingbats - Between the lines</td>\n",
       "      <td>Trivia</td>\n",
       "    </tr>\n",
       "    <tr>\n",
       "      <th>3</th>\n",
       "      <td>Gauguin Lyon</td>\n",
       "      <td>3</td>\n",
       "      <td>Very few new levels added. Needs redesigning s...</td>\n",
       "      <td>1</td>\n",
       "      <td>2021-05-12 06:41:03</td>\n",
       "      <td>aasuited.net.word</td>\n",
       "      <td>Dingbats - Between the lines</td>\n",
       "      <td>Trivia</td>\n",
       "    </tr>\n",
       "    <tr>\n",
       "      <th>4</th>\n",
       "      <td>Nancy Norris</td>\n",
       "      <td>4</td>\n",
       "      <td>It's fun. Some of the phrases are slightly dif...</td>\n",
       "      <td>0</td>\n",
       "      <td>2021-05-13 09:32:51</td>\n",
       "      <td>aasuited.net.word</td>\n",
       "      <td>Dingbats - Between the lines</td>\n",
       "      <td>Trivia</td>\n",
       "    </tr>\n",
       "  </tbody>\n",
       "</table>\n",
       "</div>"
      ],
      "text/plain": [
       "                user  score  \\\n",
       "0  Stacie Abasiekong      5   \n",
       "1          Matthew D      5   \n",
       "2           Liz Beer      5   \n",
       "3       Gauguin Lyon      3   \n",
       "4       Nancy Norris      4   \n",
       "\n",
       "                                             content  like  \\\n",
       "0  I love this game! It can be challenging, but I...     0   \n",
       "1  Fun, challenging and ads are not too intrusive...     1   \n",
       "2  Love the app, gets you thinking like Dingbats....     6   \n",
       "3  Very few new levels added. Needs redesigning s...     1   \n",
       "4  It's fun. Some of the phrases are slightly dif...     0   \n",
       "\n",
       "                 date            game_id                    game_title  \\\n",
       "0 2021-05-17 20:42:28  aasuited.net.word  Dingbats - Between the lines   \n",
       "1 2021-05-13 22:14:40  aasuited.net.word  Dingbats - Between the lines   \n",
       "2 2021-04-29 22:18:10  aasuited.net.word  Dingbats - Between the lines   \n",
       "3 2021-05-12 06:41:03  aasuited.net.word  Dingbats - Between the lines   \n",
       "4 2021-05-13 09:32:51  aasuited.net.word  Dingbats - Between the lines   \n",
       "\n",
       "  game_category  \n",
       "0        Trivia  \n",
       "1        Trivia  \n",
       "2        Trivia  \n",
       "3        Trivia  \n",
       "4        Trivia  "
      ]
     },
     "execution_count": 4,
     "metadata": {},
     "output_type": "execute_result"
    }
   ],
   "source": [
    "data.head()"
   ]
  },
  {
   "cell_type": "code",
   "execution_count": 6,
   "id": "driving-library",
   "metadata": {},
   "outputs": [
    {
     "data": {
      "text/plain": [
       "50"
      ]
     },
     "execution_count": 6,
     "metadata": {},
     "output_type": "execute_result"
    }
   ],
   "source": [
    "len(data['game_id'].unique())"
   ]
  },
  {
   "cell_type": "code",
   "execution_count": null,
   "id": "biblical-bolivia",
   "metadata": {},
   "outputs": [],
   "source": []
  }
 ],
 "metadata": {
  "kernelspec": {
   "display_name": "Python 3",
   "language": "python",
   "name": "python3"
  },
  "language_info": {
   "codemirror_mode": {
    "name": "ipython",
    "version": 3
   },
   "file_extension": ".py",
   "mimetype": "text/x-python",
   "name": "python",
   "nbconvert_exporter": "python",
   "pygments_lexer": "ipython3",
   "version": "3.8.3"
  }
 },
 "nbformat": 4,
 "nbformat_minor": 5
}
